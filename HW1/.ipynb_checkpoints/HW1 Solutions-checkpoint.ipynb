{
 "cells": [
  {
   "cell_type": "code",
   "execution_count": 23,
   "id": "9eff7837",
   "metadata": {},
   "outputs": [],
   "source": [
    "import pandas as pd\n",
    "import numpy as np"
   ]
  },
  {
   "cell_type": "code",
   "execution_count": 24,
   "id": "e6822d88",
   "metadata": {},
   "outputs": [
    {
     "data": {
      "text/html": [
       "<div>\n",
       "<style scoped>\n",
       "    .dataframe tbody tr th:only-of-type {\n",
       "        vertical-align: middle;\n",
       "    }\n",
       "\n",
       "    .dataframe tbody tr th {\n",
       "        vertical-align: top;\n",
       "    }\n",
       "\n",
       "    .dataframe thead th {\n",
       "        text-align: right;\n",
       "    }\n",
       "</style>\n",
       "<table border=\"1\" class=\"dataframe\">\n",
       "  <thead>\n",
       "    <tr style=\"text-align: right;\">\n",
       "      <th></th>\n",
       "      <th>AXP</th>\n",
       "      <th>BAC</th>\n",
       "      <th>BK</th>\n",
       "      <th>CVX</th>\n",
       "      <th>DVA</th>\n",
       "      <th>KO</th>\n",
       "      <th>MCO</th>\n",
       "      <th>USB</th>\n",
       "      <th>VRSN</th>\n",
       "      <th>VZ</th>\n",
       "    </tr>\n",
       "    <tr>\n",
       "      <th>Date</th>\n",
       "      <th></th>\n",
       "      <th></th>\n",
       "      <th></th>\n",
       "      <th></th>\n",
       "      <th></th>\n",
       "      <th></th>\n",
       "      <th></th>\n",
       "      <th></th>\n",
       "      <th></th>\n",
       "      <th></th>\n",
       "    </tr>\n",
       "  </thead>\n",
       "  <tbody>\n",
       "    <tr>\n",
       "      <th>2009-05-31</th>\n",
       "      <td>-0.014200</td>\n",
       "      <td>0.262509</td>\n",
       "      <td>0.090738</td>\n",
       "      <td>0.018851</td>\n",
       "      <td>-0.026701</td>\n",
       "      <td>0.142399</td>\n",
       "      <td>-0.068404</td>\n",
       "      <td>0.054258</td>\n",
       "      <td>0.137983</td>\n",
       "      <td>-0.035125</td>\n",
       "    </tr>\n",
       "    <tr>\n",
       "      <th>2009-06-30</th>\n",
       "      <td>-0.058321</td>\n",
       "      <td>0.171680</td>\n",
       "      <td>0.054477</td>\n",
       "      <td>-0.006898</td>\n",
       "      <td>0.095832</td>\n",
       "      <td>-0.016060</td>\n",
       "      <td>-0.038569</td>\n",
       "      <td>-0.064635</td>\n",
       "      <td>-0.209484</td>\n",
       "      <td>0.049641</td>\n",
       "    </tr>\n",
       "    <tr>\n",
       "      <th>2009-07-31</th>\n",
       "      <td>0.219046</td>\n",
       "      <td>0.120482</td>\n",
       "      <td>-0.064079</td>\n",
       "      <td>0.048631</td>\n",
       "      <td>0.004880</td>\n",
       "      <td>0.038577</td>\n",
       "      <td>-0.099024</td>\n",
       "      <td>0.138977</td>\n",
       "      <td>0.103699</td>\n",
       "      <td>0.060084</td>\n",
       "    </tr>\n",
       "    <tr>\n",
       "      <th>2009-08-31</th>\n",
       "      <td>0.193352</td>\n",
       "      <td>0.188881</td>\n",
       "      <td>0.082592</td>\n",
       "      <td>0.016405</td>\n",
       "      <td>0.040007</td>\n",
       "      <td>-0.021904</td>\n",
       "      <td>0.151869</td>\n",
       "      <td>0.107845</td>\n",
       "      <td>0.036257</td>\n",
       "      <td>-0.032553</td>\n",
       "    </tr>\n",
       "    <tr>\n",
       "      <th>2009-09-30</th>\n",
       "      <td>0.007711</td>\n",
       "      <td>-0.037496</td>\n",
       "      <td>-0.020930</td>\n",
       "      <td>0.007015</td>\n",
       "      <td>0.095348</td>\n",
       "      <td>0.110094</td>\n",
       "      <td>-0.248890</td>\n",
       "      <td>-0.031394</td>\n",
       "      <td>0.117989</td>\n",
       "      <td>-0.024798</td>\n",
       "    </tr>\n",
       "    <tr>\n",
       "      <th>...</th>\n",
       "      <td>...</td>\n",
       "      <td>...</td>\n",
       "      <td>...</td>\n",
       "      <td>...</td>\n",
       "      <td>...</td>\n",
       "      <td>...</td>\n",
       "      <td>...</td>\n",
       "      <td>...</td>\n",
       "      <td>...</td>\n",
       "      <td>...</td>\n",
       "    </tr>\n",
       "    <tr>\n",
       "      <th>2021-08-31</th>\n",
       "      <td>-0.026618</td>\n",
       "      <td>0.088554</td>\n",
       "      <td>0.075965</td>\n",
       "      <td>-0.036508</td>\n",
       "      <td>0.087665</td>\n",
       "      <td>-0.012444</td>\n",
       "      <td>0.014549</td>\n",
       "      <td>0.033490</td>\n",
       "      <td>-0.000327</td>\n",
       "      <td>-0.013802</td>\n",
       "    </tr>\n",
       "    <tr>\n",
       "      <th>2021-09-30</th>\n",
       "      <td>0.009460</td>\n",
       "      <td>0.021977</td>\n",
       "      <td>-0.061210</td>\n",
       "      <td>0.048362</td>\n",
       "      <td>-0.110958</td>\n",
       "      <td>-0.061161</td>\n",
       "      <td>-0.067390</td>\n",
       "      <td>0.043666</td>\n",
       "      <td>-0.052021</td>\n",
       "      <td>-0.018000</td>\n",
       "    </tr>\n",
       "    <tr>\n",
       "      <th>2021-10-31</th>\n",
       "      <td>0.040157</td>\n",
       "      <td>0.125831</td>\n",
       "      <td>0.148817</td>\n",
       "      <td>0.128808</td>\n",
       "      <td>-0.111719</td>\n",
       "      <td>0.074600</td>\n",
       "      <td>0.138370</td>\n",
       "      <td>0.015918</td>\n",
       "      <td>0.086414</td>\n",
       "      <td>-0.006962</td>\n",
       "    </tr>\n",
       "    <tr>\n",
       "      <th>2021-11-30</th>\n",
       "      <td>-0.123152</td>\n",
       "      <td>-0.068823</td>\n",
       "      <td>-0.074040</td>\n",
       "      <td>-0.002303</td>\n",
       "      <td>-0.084204</td>\n",
       "      <td>-0.061872</td>\n",
       "      <td>-0.031426</td>\n",
       "      <td>-0.082867</td>\n",
       "      <td>0.077877</td>\n",
       "      <td>-0.050878</td>\n",
       "    </tr>\n",
       "    <tr>\n",
       "      <th>2021-12-31</th>\n",
       "      <td>0.075434</td>\n",
       "      <td>0.008157</td>\n",
       "      <td>0.065069</td>\n",
       "      <td>0.044736</td>\n",
       "      <td>0.200046</td>\n",
       "      <td>0.123656</td>\n",
       "      <td>0.018723</td>\n",
       "      <td>0.022497</td>\n",
       "      <td>0.066503</td>\n",
       "      <td>0.041304</td>\n",
       "    </tr>\n",
       "  </tbody>\n",
       "</table>\n",
       "<p>152 rows × 10 columns</p>\n",
       "</div>"
      ],
      "text/plain": [
       "                 AXP       BAC        BK       CVX       DVA        KO  \\\n",
       "Date                                                                     \n",
       "2009-05-31 -0.014200  0.262509  0.090738  0.018851 -0.026701  0.142399   \n",
       "2009-06-30 -0.058321  0.171680  0.054477 -0.006898  0.095832 -0.016060   \n",
       "2009-07-31  0.219046  0.120482 -0.064079  0.048631  0.004880  0.038577   \n",
       "2009-08-31  0.193352  0.188881  0.082592  0.016405  0.040007 -0.021904   \n",
       "2009-09-30  0.007711 -0.037496 -0.020930  0.007015  0.095348  0.110094   \n",
       "...              ...       ...       ...       ...       ...       ...   \n",
       "2021-08-31 -0.026618  0.088554  0.075965 -0.036508  0.087665 -0.012444   \n",
       "2021-09-30  0.009460  0.021977 -0.061210  0.048362 -0.110958 -0.061161   \n",
       "2021-10-31  0.040157  0.125831  0.148817  0.128808 -0.111719  0.074600   \n",
       "2021-11-30 -0.123152 -0.068823 -0.074040 -0.002303 -0.084204 -0.061872   \n",
       "2021-12-31  0.075434  0.008157  0.065069  0.044736  0.200046  0.123656   \n",
       "\n",
       "                 MCO       USB      VRSN        VZ  \n",
       "Date                                                \n",
       "2009-05-31 -0.068404  0.054258  0.137983 -0.035125  \n",
       "2009-06-30 -0.038569 -0.064635 -0.209484  0.049641  \n",
       "2009-07-31 -0.099024  0.138977  0.103699  0.060084  \n",
       "2009-08-31  0.151869  0.107845  0.036257 -0.032553  \n",
       "2009-09-30 -0.248890 -0.031394  0.117989 -0.024798  \n",
       "...              ...       ...       ...       ...  \n",
       "2021-08-31  0.014549  0.033490 -0.000327 -0.013802  \n",
       "2021-09-30 -0.067390  0.043666 -0.052021 -0.018000  \n",
       "2021-10-31  0.138370  0.015918  0.086414 -0.006962  \n",
       "2021-11-30 -0.031426 -0.082867  0.077877 -0.050878  \n",
       "2021-12-31  0.018723  0.022497  0.066503  0.041304  \n",
       "\n",
       "[152 rows x 10 columns]"
      ]
     },
     "execution_count": 24,
     "metadata": {},
     "output_type": "execute_result"
    }
   ],
   "source": [
    "data = pd.read_excel('portfolio.xlsx')\n",
    "data.set_index('Date', inplace=True)\n",
    "data"
   ]
  },
  {
   "cell_type": "markdown",
   "id": "58684ad8",
   "metadata": {},
   "source": [
    "# Question 1"
   ]
  },
  {
   "cell_type": "markdown",
   "id": "401d4843",
   "metadata": {},
   "source": [
    "## a."
   ]
  },
  {
   "cell_type": "code",
   "execution_count": 25,
   "id": "f23b3f16",
   "metadata": {},
   "outputs": [
    {
     "data": {
      "text/html": [
       "<div>\n",
       "<style scoped>\n",
       "    .dataframe tbody tr th:only-of-type {\n",
       "        vertical-align: middle;\n",
       "    }\n",
       "\n",
       "    .dataframe tbody tr th {\n",
       "        vertical-align: top;\n",
       "    }\n",
       "\n",
       "    .dataframe thead th {\n",
       "        text-align: right;\n",
       "    }\n",
       "</style>\n",
       "<table border=\"1\" class=\"dataframe\">\n",
       "  <thead>\n",
       "    <tr style=\"text-align: right;\">\n",
       "      <th></th>\n",
       "      <th>Mean Return</th>\n",
       "      <th>Volatility</th>\n",
       "      <th>Sharpe</th>\n",
       "    </tr>\n",
       "  </thead>\n",
       "  <tbody>\n",
       "    <tr>\n",
       "      <th>AXP</th>\n",
       "      <td>0.015719</td>\n",
       "      <td>0.070700</td>\n",
       "      <td>0.222339</td>\n",
       "    </tr>\n",
       "    <tr>\n",
       "      <th>BAC</th>\n",
       "      <td>0.015862</td>\n",
       "      <td>0.096545</td>\n",
       "      <td>0.164302</td>\n",
       "    </tr>\n",
       "    <tr>\n",
       "      <th>BK</th>\n",
       "      <td>0.009038</td>\n",
       "      <td>0.067668</td>\n",
       "      <td>0.133565</td>\n",
       "    </tr>\n",
       "    <tr>\n",
       "      <th>CVX</th>\n",
       "      <td>0.008938</td>\n",
       "      <td>0.067041</td>\n",
       "      <td>0.133317</td>\n",
       "    </tr>\n",
       "    <tr>\n",
       "      <th>DVA</th>\n",
       "      <td>0.012926</td>\n",
       "      <td>0.076253</td>\n",
       "      <td>0.169511</td>\n",
       "    </tr>\n",
       "    <tr>\n",
       "      <th>KO</th>\n",
       "      <td>0.009930</td>\n",
       "      <td>0.046055</td>\n",
       "      <td>0.215600</td>\n",
       "    </tr>\n",
       "    <tr>\n",
       "      <th>MCO</th>\n",
       "      <td>0.020985</td>\n",
       "      <td>0.077685</td>\n",
       "      <td>0.270136</td>\n",
       "    </tr>\n",
       "    <tr>\n",
       "      <th>USB</th>\n",
       "      <td>0.010886</td>\n",
       "      <td>0.060069</td>\n",
       "      <td>0.181222</td>\n",
       "    </tr>\n",
       "    <tr>\n",
       "      <th>VRSN</th>\n",
       "      <td>0.019799</td>\n",
       "      <td>0.068904</td>\n",
       "      <td>0.287339</td>\n",
       "    </tr>\n",
       "    <tr>\n",
       "      <th>VZ</th>\n",
       "      <td>0.008654</td>\n",
       "      <td>0.047143</td>\n",
       "      <td>0.183574</td>\n",
       "    </tr>\n",
       "  </tbody>\n",
       "</table>\n",
       "</div>"
      ],
      "text/plain": [
       "      Mean Return  Volatility    Sharpe\n",
       "AXP      0.015719    0.070700  0.222339\n",
       "BAC      0.015862    0.096545  0.164302\n",
       "BK       0.009038    0.067668  0.133565\n",
       "CVX      0.008938    0.067041  0.133317\n",
       "DVA      0.012926    0.076253  0.169511\n",
       "KO       0.009930    0.046055  0.215600\n",
       "MCO      0.020985    0.077685  0.270136\n",
       "USB      0.010886    0.060069  0.181222\n",
       "VRSN     0.019799    0.068904  0.287339\n",
       "VZ       0.008654    0.047143  0.183574"
      ]
     },
     "execution_count": 25,
     "metadata": {},
     "output_type": "execute_result"
    }
   ],
   "source": [
    "mu = data.mean()\n",
    "std = data.std()\n",
    "sharpe = mu / std\n",
    "stats = pd.DataFrame({'Mean Return':mu, 'Volatility':std, 'Sharpe': sharpe})\n",
    "stats"
   ]
  },
  {
   "cell_type": "markdown",
   "id": "8fc3546f",
   "metadata": {},
   "source": [
    "## b."
   ]
  },
  {
   "cell_type": "code",
   "execution_count": 26,
   "id": "a3ba7719",
   "metadata": {},
   "outputs": [
    {
     "data": {
      "text/html": [
       "<div>\n",
       "<style scoped>\n",
       "    .dataframe tbody tr th:only-of-type {\n",
       "        vertical-align: middle;\n",
       "    }\n",
       "\n",
       "    .dataframe tbody tr th {\n",
       "        vertical-align: top;\n",
       "    }\n",
       "\n",
       "    .dataframe thead th {\n",
       "        text-align: right;\n",
       "    }\n",
       "</style>\n",
       "<table border=\"1\" class=\"dataframe\">\n",
       "  <thead>\n",
       "    <tr style=\"text-align: right;\">\n",
       "      <th></th>\n",
       "      <th>AXP</th>\n",
       "      <th>BAC</th>\n",
       "      <th>BK</th>\n",
       "      <th>CVX</th>\n",
       "      <th>DVA</th>\n",
       "      <th>KO</th>\n",
       "      <th>MCO</th>\n",
       "      <th>USB</th>\n",
       "      <th>VRSN</th>\n",
       "      <th>VZ</th>\n",
       "    </tr>\n",
       "  </thead>\n",
       "  <tbody>\n",
       "    <tr>\n",
       "      <th>AXP</th>\n",
       "      <td>0.004998</td>\n",
       "      <td>0.003791</td>\n",
       "      <td>0.002464</td>\n",
       "      <td>0.002731</td>\n",
       "      <td>0.001804</td>\n",
       "      <td>0.001350</td>\n",
       "      <td>0.002503</td>\n",
       "      <td>0.002646</td>\n",
       "      <td>0.001697</td>\n",
       "      <td>0.000603</td>\n",
       "    </tr>\n",
       "    <tr>\n",
       "      <th>BAC</th>\n",
       "      <td>0.003791</td>\n",
       "      <td>0.009321</td>\n",
       "      <td>0.004784</td>\n",
       "      <td>0.002948</td>\n",
       "      <td>0.002532</td>\n",
       "      <td>0.000929</td>\n",
       "      <td>0.002708</td>\n",
       "      <td>0.003654</td>\n",
       "      <td>0.001597</td>\n",
       "      <td>0.000229</td>\n",
       "    </tr>\n",
       "    <tr>\n",
       "      <th>BK</th>\n",
       "      <td>0.002464</td>\n",
       "      <td>0.004784</td>\n",
       "      <td>0.004579</td>\n",
       "      <td>0.002604</td>\n",
       "      <td>0.001829</td>\n",
       "      <td>0.000935</td>\n",
       "      <td>0.002667</td>\n",
       "      <td>0.002562</td>\n",
       "      <td>0.001493</td>\n",
       "      <td>0.000389</td>\n",
       "    </tr>\n",
       "    <tr>\n",
       "      <th>CVX</th>\n",
       "      <td>0.002731</td>\n",
       "      <td>0.002948</td>\n",
       "      <td>0.002604</td>\n",
       "      <td>0.004494</td>\n",
       "      <td>0.001465</td>\n",
       "      <td>0.001189</td>\n",
       "      <td>0.001907</td>\n",
       "      <td>0.002158</td>\n",
       "      <td>0.001596</td>\n",
       "      <td>0.001250</td>\n",
       "    </tr>\n",
       "    <tr>\n",
       "      <th>DVA</th>\n",
       "      <td>0.001804</td>\n",
       "      <td>0.002532</td>\n",
       "      <td>0.001829</td>\n",
       "      <td>0.001465</td>\n",
       "      <td>0.005815</td>\n",
       "      <td>0.000893</td>\n",
       "      <td>0.001501</td>\n",
       "      <td>0.001183</td>\n",
       "      <td>0.001212</td>\n",
       "      <td>0.000811</td>\n",
       "    </tr>\n",
       "    <tr>\n",
       "      <th>KO</th>\n",
       "      <td>0.001350</td>\n",
       "      <td>0.000929</td>\n",
       "      <td>0.000935</td>\n",
       "      <td>0.001189</td>\n",
       "      <td>0.000893</td>\n",
       "      <td>0.002121</td>\n",
       "      <td>0.000742</td>\n",
       "      <td>0.001015</td>\n",
       "      <td>0.001017</td>\n",
       "      <td>0.001027</td>\n",
       "    </tr>\n",
       "    <tr>\n",
       "      <th>MCO</th>\n",
       "      <td>0.002503</td>\n",
       "      <td>0.002708</td>\n",
       "      <td>0.002667</td>\n",
       "      <td>0.001907</td>\n",
       "      <td>0.001501</td>\n",
       "      <td>0.000742</td>\n",
       "      <td>0.006035</td>\n",
       "      <td>0.001886</td>\n",
       "      <td>0.001638</td>\n",
       "      <td>0.000638</td>\n",
       "    </tr>\n",
       "    <tr>\n",
       "      <th>USB</th>\n",
       "      <td>0.002646</td>\n",
       "      <td>0.003654</td>\n",
       "      <td>0.002562</td>\n",
       "      <td>0.002158</td>\n",
       "      <td>0.001183</td>\n",
       "      <td>0.001015</td>\n",
       "      <td>0.001886</td>\n",
       "      <td>0.003608</td>\n",
       "      <td>0.001163</td>\n",
       "      <td>0.000474</td>\n",
       "    </tr>\n",
       "    <tr>\n",
       "      <th>VRSN</th>\n",
       "      <td>0.001697</td>\n",
       "      <td>0.001597</td>\n",
       "      <td>0.001493</td>\n",
       "      <td>0.001596</td>\n",
       "      <td>0.001212</td>\n",
       "      <td>0.001017</td>\n",
       "      <td>0.001638</td>\n",
       "      <td>0.001163</td>\n",
       "      <td>0.004748</td>\n",
       "      <td>0.000576</td>\n",
       "    </tr>\n",
       "    <tr>\n",
       "      <th>VZ</th>\n",
       "      <td>0.000603</td>\n",
       "      <td>0.000229</td>\n",
       "      <td>0.000389</td>\n",
       "      <td>0.001250</td>\n",
       "      <td>0.000811</td>\n",
       "      <td>0.001027</td>\n",
       "      <td>0.000638</td>\n",
       "      <td>0.000474</td>\n",
       "      <td>0.000576</td>\n",
       "      <td>0.002222</td>\n",
       "    </tr>\n",
       "  </tbody>\n",
       "</table>\n",
       "</div>"
      ],
      "text/plain": [
       "           AXP       BAC        BK       CVX       DVA        KO       MCO  \\\n",
       "AXP   0.004998  0.003791  0.002464  0.002731  0.001804  0.001350  0.002503   \n",
       "BAC   0.003791  0.009321  0.004784  0.002948  0.002532  0.000929  0.002708   \n",
       "BK    0.002464  0.004784  0.004579  0.002604  0.001829  0.000935  0.002667   \n",
       "CVX   0.002731  0.002948  0.002604  0.004494  0.001465  0.001189  0.001907   \n",
       "DVA   0.001804  0.002532  0.001829  0.001465  0.005815  0.000893  0.001501   \n",
       "KO    0.001350  0.000929  0.000935  0.001189  0.000893  0.002121  0.000742   \n",
       "MCO   0.002503  0.002708  0.002667  0.001907  0.001501  0.000742  0.006035   \n",
       "USB   0.002646  0.003654  0.002562  0.002158  0.001183  0.001015  0.001886   \n",
       "VRSN  0.001697  0.001597  0.001493  0.001596  0.001212  0.001017  0.001638   \n",
       "VZ    0.000603  0.000229  0.000389  0.001250  0.000811  0.001027  0.000638   \n",
       "\n",
       "           USB      VRSN        VZ  \n",
       "AXP   0.002646  0.001697  0.000603  \n",
       "BAC   0.003654  0.001597  0.000229  \n",
       "BK    0.002562  0.001493  0.000389  \n",
       "CVX   0.002158  0.001596  0.001250  \n",
       "DVA   0.001183  0.001212  0.000811  \n",
       "KO    0.001015  0.001017  0.001027  \n",
       "MCO   0.001886  0.001638  0.000638  \n",
       "USB   0.003608  0.001163  0.000474  \n",
       "VRSN  0.001163  0.004748  0.000576  \n",
       "VZ    0.000474  0.000576  0.002222  "
      ]
     },
     "execution_count": 26,
     "metadata": {},
     "output_type": "execute_result"
    }
   ],
   "source": [
    "cov = data.cov()\n",
    "cov"
   ]
  },
  {
   "cell_type": "markdown",
   "id": "189493b6",
   "metadata": {},
   "source": [
    "## c."
   ]
  },
  {
   "cell_type": "markdown",
   "id": "99087576",
   "metadata": {},
   "source": [
    "Highest Mean Return (In-Order): AAPL, MCO, DVA, VRSN, BAC\n",
    "\n",
    "Highest Sharpe (In-Order): AAPL, MCO, DVA, CVX, KO\n",
    "\n",
    "The highest mean return doesn't necessarily mean the highest Sharpe ratio. In this example the top 3 returns had the highest sharpe but the bottom two weren't correlated. Sharpe measures risk to return measures not just return."
   ]
  },
  {
   "cell_type": "markdown",
   "id": "f406490f",
   "metadata": {},
   "source": [
    "# Question 2"
   ]
  },
  {
   "cell_type": "markdown",
   "id": "276e1aa2",
   "metadata": {},
   "source": [
    "# a."
   ]
  },
  {
   "cell_type": "code",
   "execution_count": 27,
   "id": "a84dd8e9",
   "metadata": {},
   "outputs": [],
   "source": [
    "def tangency_portfolio(returns, diag=False):\n",
    "    mu = returns.mean()\n",
    "    Sigma = returns.cov()\n",
    "    if diag:\n",
    "        sig_d = np.zeros(Sigma.shape)\n",
    "        np.fill_diagonal(sig_d,Sigma.to_numpy().diagonal())\n",
    "        Sigma = sig_d\n",
    "    Sigma_inv = np.linalg.inv(Sigma)\n",
    "    \n",
    "    weights = mu @ Sigma_inv\n",
    "    weights = weights / weights.sum()\n",
    "    wts_tan = pd.Series(weights, index = mu.index)\n",
    "    return wts_tan\n",
    "    "
   ]
  },
  {
   "cell_type": "code",
   "execution_count": 28,
   "id": "4ee3a5d5",
   "metadata": {},
   "outputs": [
    {
     "data": {
      "text/plain": [
       "AXP     0.071700\n",
       "BAC     0.148923\n",
       "BK     -0.283506\n",
       "CVX    -0.178652\n",
       "DVA     0.074119\n",
       "KO      0.195236\n",
       "MCO     0.301760\n",
       "USB     0.072356\n",
       "VRSN    0.340963\n",
       "VZ      0.257101\n",
       "dtype: float64"
      ]
     },
     "execution_count": 28,
     "metadata": {},
     "output_type": "execute_result"
    }
   ],
   "source": [
    "wts_tan = tangency_portfolio(data)\n",
    "wts_tan"
   ]
  },
  {
   "cell_type": "markdown",
   "id": "e4297d01",
   "metadata": {},
   "source": [
    "# b."
   ]
  },
  {
   "cell_type": "code",
   "execution_count": 29,
   "id": "63b67080",
   "metadata": {},
   "outputs": [],
   "source": [
    "# New Data Returns\n",
    "returns_tangency = data @ wts_tan"
   ]
  },
  {
   "cell_type": "code",
   "execution_count": 30,
   "id": "092945f9",
   "metadata": {},
   "outputs": [
    {
     "data": {
      "text/html": [
       "<div>\n",
       "<style scoped>\n",
       "    .dataframe tbody tr th:only-of-type {\n",
       "        vertical-align: middle;\n",
       "    }\n",
       "\n",
       "    .dataframe tbody tr th {\n",
       "        vertical-align: top;\n",
       "    }\n",
       "\n",
       "    .dataframe thead th {\n",
       "        text-align: right;\n",
       "    }\n",
       "</style>\n",
       "<table border=\"1\" class=\"dataframe\">\n",
       "  <thead>\n",
       "    <tr style=\"text-align: right;\">\n",
       "      <th></th>\n",
       "      <th>Mean Return</th>\n",
       "      <th>Volatility</th>\n",
       "      <th>Sharpe</th>\n",
       "    </tr>\n",
       "  </thead>\n",
       "  <tbody>\n",
       "    <tr>\n",
       "      <th>AXP</th>\n",
       "      <td>0.015719</td>\n",
       "      <td>0.070700</td>\n",
       "      <td>0.222339</td>\n",
       "    </tr>\n",
       "    <tr>\n",
       "      <th>BAC</th>\n",
       "      <td>0.015862</td>\n",
       "      <td>0.096545</td>\n",
       "      <td>0.164302</td>\n",
       "    </tr>\n",
       "    <tr>\n",
       "      <th>BK</th>\n",
       "      <td>0.009038</td>\n",
       "      <td>0.067668</td>\n",
       "      <td>0.133565</td>\n",
       "    </tr>\n",
       "    <tr>\n",
       "      <th>CVX</th>\n",
       "      <td>0.008938</td>\n",
       "      <td>0.067041</td>\n",
       "      <td>0.133317</td>\n",
       "    </tr>\n",
       "    <tr>\n",
       "      <th>DVA</th>\n",
       "      <td>0.012926</td>\n",
       "      <td>0.076253</td>\n",
       "      <td>0.169511</td>\n",
       "    </tr>\n",
       "    <tr>\n",
       "      <th>KO</th>\n",
       "      <td>0.009930</td>\n",
       "      <td>0.046055</td>\n",
       "      <td>0.215600</td>\n",
       "    </tr>\n",
       "    <tr>\n",
       "      <th>MCO</th>\n",
       "      <td>0.020985</td>\n",
       "      <td>0.077685</td>\n",
       "      <td>0.270136</td>\n",
       "    </tr>\n",
       "    <tr>\n",
       "      <th>USB</th>\n",
       "      <td>0.010886</td>\n",
       "      <td>0.060069</td>\n",
       "      <td>0.181222</td>\n",
       "    </tr>\n",
       "    <tr>\n",
       "      <th>VRSN</th>\n",
       "      <td>0.019799</td>\n",
       "      <td>0.068904</td>\n",
       "      <td>0.287339</td>\n",
       "    </tr>\n",
       "    <tr>\n",
       "      <th>VZ</th>\n",
       "      <td>0.008654</td>\n",
       "      <td>0.047143</td>\n",
       "      <td>0.183574</td>\n",
       "    </tr>\n",
       "    <tr>\n",
       "      <th>Tangency</th>\n",
       "      <td>0.018323</td>\n",
       "      <td>0.045986</td>\n",
       "      <td>0.398447</td>\n",
       "    </tr>\n",
       "  </tbody>\n",
       "</table>\n",
       "</div>"
      ],
      "text/plain": [
       "          Mean Return  Volatility    Sharpe\n",
       "AXP          0.015719    0.070700  0.222339\n",
       "BAC          0.015862    0.096545  0.164302\n",
       "BK           0.009038    0.067668  0.133565\n",
       "CVX          0.008938    0.067041  0.133317\n",
       "DVA          0.012926    0.076253  0.169511\n",
       "KO           0.009930    0.046055  0.215600\n",
       "MCO          0.020985    0.077685  0.270136\n",
       "USB          0.010886    0.060069  0.181222\n",
       "VRSN         0.019799    0.068904  0.287339\n",
       "VZ           0.008654    0.047143  0.183574\n",
       "Tangency     0.018323    0.045986  0.398447"
      ]
     },
     "execution_count": 30,
     "metadata": {},
     "output_type": "execute_result"
    }
   ],
   "source": [
    "# Calculate and Add\n",
    "wts_tan_mu = returns_tangency.mean()\n",
    "wts_tan_std = returns_tangency.std()\n",
    "wts_tan_sharpe = wts_tan_mu / wts_tan_std\n",
    "stats.loc['Tangency'] = [wts_tan_mu, wts_tan_std, wts_tan_sharpe] \n",
    "stats"
   ]
  },
  {
   "cell_type": "markdown",
   "id": "9fa2e91c",
   "metadata": {},
   "source": [
    "## c."
   ]
  },
  {
   "cell_type": "markdown",
   "id": "6bc2869f",
   "metadata": {},
   "source": [
    "The tangency portfolio has the highest sharpe ratio out of all the assets. By definition the tangency optimizes the sharpe of any portfolio so it should have the highest sharpe of any assets that it is composed of."
   ]
  },
  {
   "cell_type": "markdown",
   "id": "17399dbf",
   "metadata": {},
   "source": [
    "# Question 3"
   ]
  },
  {
   "cell_type": "markdown",
   "id": "53244589",
   "metadata": {},
   "source": [
    "## a."
   ]
  },
  {
   "cell_type": "code",
   "execution_count": 31,
   "id": "2d8bf2fb",
   "metadata": {},
   "outputs": [
    {
     "data": {
      "text/plain": [
       "AXP     0.039132\n",
       "BAC     0.081277\n",
       "BK     -0.154728\n",
       "CVX    -0.097502\n",
       "DVA     0.040451\n",
       "KO      0.106553\n",
       "MCO     0.164690\n",
       "USB     0.039490\n",
       "VRSN    0.186086\n",
       "VZ      0.140317\n",
       "dtype: float64"
      ]
     },
     "execution_count": 31,
     "metadata": {},
     "output_type": "execute_result"
    }
   ],
   "source": [
    "target = .01\n",
    "sig = data.cov()\n",
    "mu = data.mean()\n",
    "\n",
    "# Delta is the scalar adjustment \n",
    "delta = ((np.ones((1,sig.shape[0])) @ np.linalg.inv(sig) @ mu) / (mu @ np.linalg.inv(sig) @ mu)) * target\n",
    "adjusted = delta * wts_tan\n",
    "\n",
    "adjusted"
   ]
  },
  {
   "cell_type": "code",
   "execution_count": 32,
   "id": "8a73b763",
   "metadata": {},
   "outputs": [
    {
     "data": {
      "text/plain": [
       "Date\n",
       "2009-05-31    0.030621\n",
       "2009-06-30   -0.034841\n",
       "2009-07-31    0.044753\n",
       "2009-08-31    0.039273\n",
       "2009-09-30   -0.008356\n",
       "                ...   \n",
       "2021-08-31    0.001903\n",
       "2021-09-30   -0.025674\n",
       "2021-10-31    0.018163\n",
       "2021-11-30   -0.009826\n",
       "2021-12-31    0.032596\n",
       "Length: 152, dtype: float64"
      ]
     },
     "execution_count": 32,
     "metadata": {},
     "output_type": "execute_result"
    }
   ],
   "source": [
    "adj_ret = data @ adjusted\n",
    "adj_ret"
   ]
  },
  {
   "cell_type": "markdown",
   "id": "a6f049f7",
   "metadata": {},
   "source": [
    "## b."
   ]
  },
  {
   "cell_type": "code",
   "execution_count": 33,
   "id": "e69dce0c",
   "metadata": {},
   "outputs": [
    {
     "data": {
      "text/html": [
       "<div>\n",
       "<style scoped>\n",
       "    .dataframe tbody tr th:only-of-type {\n",
       "        vertical-align: middle;\n",
       "    }\n",
       "\n",
       "    .dataframe tbody tr th {\n",
       "        vertical-align: top;\n",
       "    }\n",
       "\n",
       "    .dataframe thead th {\n",
       "        text-align: right;\n",
       "    }\n",
       "</style>\n",
       "<table border=\"1\" class=\"dataframe\">\n",
       "  <thead>\n",
       "    <tr style=\"text-align: right;\">\n",
       "      <th></th>\n",
       "      <th>Mean Return</th>\n",
       "      <th>Volatility</th>\n",
       "      <th>Sharpe</th>\n",
       "    </tr>\n",
       "  </thead>\n",
       "  <tbody>\n",
       "    <tr>\n",
       "      <th>AXP</th>\n",
       "      <td>0.015719</td>\n",
       "      <td>0.070700</td>\n",
       "      <td>0.222339</td>\n",
       "    </tr>\n",
       "    <tr>\n",
       "      <th>BAC</th>\n",
       "      <td>0.015862</td>\n",
       "      <td>0.096545</td>\n",
       "      <td>0.164302</td>\n",
       "    </tr>\n",
       "    <tr>\n",
       "      <th>BK</th>\n",
       "      <td>0.009038</td>\n",
       "      <td>0.067668</td>\n",
       "      <td>0.133565</td>\n",
       "    </tr>\n",
       "    <tr>\n",
       "      <th>CVX</th>\n",
       "      <td>0.008938</td>\n",
       "      <td>0.067041</td>\n",
       "      <td>0.133317</td>\n",
       "    </tr>\n",
       "    <tr>\n",
       "      <th>DVA</th>\n",
       "      <td>0.012926</td>\n",
       "      <td>0.076253</td>\n",
       "      <td>0.169511</td>\n",
       "    </tr>\n",
       "    <tr>\n",
       "      <th>KO</th>\n",
       "      <td>0.009930</td>\n",
       "      <td>0.046055</td>\n",
       "      <td>0.215600</td>\n",
       "    </tr>\n",
       "    <tr>\n",
       "      <th>MCO</th>\n",
       "      <td>0.020985</td>\n",
       "      <td>0.077685</td>\n",
       "      <td>0.270136</td>\n",
       "    </tr>\n",
       "    <tr>\n",
       "      <th>USB</th>\n",
       "      <td>0.010886</td>\n",
       "      <td>0.060069</td>\n",
       "      <td>0.181222</td>\n",
       "    </tr>\n",
       "    <tr>\n",
       "      <th>VRSN</th>\n",
       "      <td>0.019799</td>\n",
       "      <td>0.068904</td>\n",
       "      <td>0.287339</td>\n",
       "    </tr>\n",
       "    <tr>\n",
       "      <th>VZ</th>\n",
       "      <td>0.008654</td>\n",
       "      <td>0.047143</td>\n",
       "      <td>0.183574</td>\n",
       "    </tr>\n",
       "    <tr>\n",
       "      <th>Tangency</th>\n",
       "      <td>0.018323</td>\n",
       "      <td>0.045986</td>\n",
       "      <td>0.398447</td>\n",
       "    </tr>\n",
       "    <tr>\n",
       "      <th>Adjusted Tangency</th>\n",
       "      <td>0.010000</td>\n",
       "      <td>0.025097</td>\n",
       "      <td>0.398447</td>\n",
       "    </tr>\n",
       "  </tbody>\n",
       "</table>\n",
       "</div>"
      ],
      "text/plain": [
       "                   Mean Return  Volatility    Sharpe\n",
       "AXP                   0.015719    0.070700  0.222339\n",
       "BAC                   0.015862    0.096545  0.164302\n",
       "BK                    0.009038    0.067668  0.133565\n",
       "CVX                   0.008938    0.067041  0.133317\n",
       "DVA                   0.012926    0.076253  0.169511\n",
       "KO                    0.009930    0.046055  0.215600\n",
       "MCO                   0.020985    0.077685  0.270136\n",
       "USB                   0.010886    0.060069  0.181222\n",
       "VRSN                  0.019799    0.068904  0.287339\n",
       "VZ                    0.008654    0.047143  0.183574\n",
       "Tangency              0.018323    0.045986  0.398447\n",
       "Adjusted Tangency     0.010000    0.025097  0.398447"
      ]
     },
     "execution_count": 33,
     "metadata": {},
     "output_type": "execute_result"
    }
   ],
   "source": [
    "adjusted_mu = adj_ret.mean()\n",
    "adjusted_std = adj_ret.std()\n",
    "adjusted_sharpe = adjusted_mu / adjusted_std\n",
    "stats.loc['Adjusted Tangency'] = [adjusted_mu, adjusted_std, adjusted_sharpe] \n",
    "stats"
   ]
  },
  {
   "cell_type": "markdown",
   "id": "4d26ec55",
   "metadata": {},
   "source": [
    "The mean return is the target that we set (.01) as the portfolio's returns were adjusted to that amount. The Volatility has decreased directly in line with the decrease in mean return so that the Sharpe is equivalent to the original tangency portfolio. Delta is scalar so it only changes the value of the mean return not the ratio."
   ]
  },
  {
   "cell_type": "markdown",
   "id": "d485a12e",
   "metadata": {},
   "source": [
    "# Question 4"
   ]
  },
  {
   "cell_type": "markdown",
   "id": "ddc77a7f",
   "metadata": {},
   "source": [
    "## a."
   ]
  },
  {
   "cell_type": "code",
   "execution_count": 34,
   "id": "6fda175b",
   "metadata": {},
   "outputs": [],
   "source": [
    "new_df = data[['MCO', 'VZ']]"
   ]
  },
  {
   "cell_type": "markdown",
   "id": "1f08b36c",
   "metadata": {},
   "source": [
    "## b."
   ]
  },
  {
   "cell_type": "code",
   "execution_count": 35,
   "id": "89294c8d",
   "metadata": {},
   "outputs": [
    {
     "data": {
      "text/plain": [
       "MCO    0.51425\n",
       "VZ     0.48575\n",
       "dtype: float64"
      ]
     },
     "execution_count": 35,
     "metadata": {},
     "output_type": "execute_result"
    }
   ],
   "source": [
    "two_sample = tangency_portfolio(new_df)\n",
    "two_sample"
   ]
  },
  {
   "cell_type": "markdown",
   "id": "8baa517a",
   "metadata": {},
   "source": [
    "## c."
   ]
  },
  {
   "cell_type": "code",
   "execution_count": 36,
   "id": "7664babf",
   "metadata": {},
   "outputs": [
    {
     "name": "stderr",
     "output_type": "stream",
     "text": [
      "<ipython-input-36-fc3103bbc6cb>:1: SettingWithCopyWarning: \n",
      "A value is trying to be set on a copy of a slice from a DataFrame.\n",
      "Try using .loc[row_indexer,col_indexer] = value instead\n",
      "\n",
      "See the caveats in the documentation: https://pandas.pydata.org/pandas-docs/stable/user_guide/indexing.html#returning-a-view-versus-a-copy\n",
      "  new_df['VZ'] = new_df['VZ'] + 0.005\n"
     ]
    }
   ],
   "source": [
    "new_df['VZ'] = new_df['VZ'] + 0.005"
   ]
  },
  {
   "cell_type": "code",
   "execution_count": 37,
   "id": "bc81bd67",
   "metadata": {},
   "outputs": [
    {
     "data": {
      "text/plain": [
       "MCO    0.354664\n",
       "VZ     0.645336\n",
       "dtype: float64"
      ]
     },
     "execution_count": 37,
     "metadata": {},
     "output_type": "execute_result"
    }
   ],
   "source": [
    "adj_two_sample = tangency_portfolio(new_df)\n",
    "adj_two_sample"
   ]
  },
  {
   "cell_type": "markdown",
   "id": "8111512d",
   "metadata": {},
   "source": [
    "## d."
   ]
  },
  {
   "cell_type": "code",
   "execution_count": 38,
   "id": "9f47961b",
   "metadata": {},
   "outputs": [
    {
     "data": {
      "text/html": [
       "<div>\n",
       "<style scoped>\n",
       "    .dataframe tbody tr th:only-of-type {\n",
       "        vertical-align: middle;\n",
       "    }\n",
       "\n",
       "    .dataframe tbody tr th {\n",
       "        vertical-align: top;\n",
       "    }\n",
       "\n",
       "    .dataframe thead th {\n",
       "        text-align: right;\n",
       "    }\n",
       "</style>\n",
       "<table border=\"1\" class=\"dataframe\">\n",
       "  <thead>\n",
       "    <tr style=\"text-align: right;\">\n",
       "      <th></th>\n",
       "      <th>Original</th>\n",
       "      <th>Adjusted</th>\n",
       "    </tr>\n",
       "  </thead>\n",
       "  <tbody>\n",
       "    <tr>\n",
       "      <th>MCO</th>\n",
       "      <td>0.51425</td>\n",
       "      <td>0.354664</td>\n",
       "    </tr>\n",
       "    <tr>\n",
       "      <th>VZ</th>\n",
       "      <td>0.48575</td>\n",
       "      <td>0.645336</td>\n",
       "    </tr>\n",
       "  </tbody>\n",
       "</table>\n",
       "</div>"
      ],
      "text/plain": [
       "     Original  Adjusted\n",
       "MCO   0.51425  0.354664\n",
       "VZ    0.48575  0.645336"
      ]
     },
     "execution_count": 38,
     "metadata": {},
     "output_type": "execute_result"
    }
   ],
   "source": [
    "two_sample_wts = pd.DataFrame({'Original':two_sample, 'Adjusted':adj_two_sample})\n",
    "two_sample_wts"
   ]
  },
  {
   "cell_type": "markdown",
   "id": "eb373262",
   "metadata": {},
   "source": [
    "The small adjustment of just .005 to Verizon's mean returns shifted the weights from being 50% Moody's to only 35% Moody's and a majority verizon. This suggest that the mean-variance portfolio is extremely sensitive to sample data and specific returns. A small variation in returns can cause the mean-variance to adjust completely. In a market that is constantly changing in dynamics, this can cause issues for the allocation due to its sensitivity."
   ]
  },
  {
   "cell_type": "markdown",
   "id": "d69141db",
   "metadata": {},
   "source": [
    "# Question 5"
   ]
  },
  {
   "cell_type": "code",
   "execution_count": 39,
   "id": "4dbb7c66",
   "metadata": {},
   "outputs": [
    {
     "data": {
      "text/plain": [
       "AXP     0.103887\n",
       "BAC     0.056218\n",
       "BK      0.065204\n",
       "CVX     0.065691\n",
       "DVA     0.073435\n",
       "KO      0.154644\n",
       "MCO     0.114871\n",
       "USB     0.099660\n",
       "VRSN    0.137756\n",
       "VZ      0.128634\n",
       "dtype: float64"
      ]
     },
     "execution_count": 39,
     "metadata": {},
     "output_type": "execute_result"
    }
   ],
   "source": [
    "wts_diag = tangency_portfolio(data, True)\n",
    "wts_diag"
   ]
  },
  {
   "cell_type": "markdown",
   "id": "57cb6cae",
   "metadata": {},
   "source": [
    "All the weights are between 0 and 1."
   ]
  },
  {
   "cell_type": "markdown",
   "id": "5739a05c",
   "metadata": {},
   "source": [
    "# Question 6"
   ]
  },
  {
   "cell_type": "markdown",
   "id": "8d5cddf1",
   "metadata": {},
   "source": [
    "## a."
   ]
  },
  {
   "cell_type": "code",
   "execution_count": 40,
   "id": "08c7abeb",
   "metadata": {},
   "outputs": [],
   "source": [
    "in_sample = data.loc[:'2016-12-31']\n",
    "out_sample = data.loc['2017-01-01':]"
   ]
  },
  {
   "cell_type": "markdown",
   "id": "35614f19",
   "metadata": {},
   "source": [
    "## b."
   ]
  },
  {
   "cell_type": "code",
   "execution_count": 41,
   "id": "01df1e42",
   "metadata": {},
   "outputs": [
    {
     "data": {
      "text/html": [
       "<div>\n",
       "<style scoped>\n",
       "    .dataframe tbody tr th:only-of-type {\n",
       "        vertical-align: middle;\n",
       "    }\n",
       "\n",
       "    .dataframe tbody tr th {\n",
       "        vertical-align: top;\n",
       "    }\n",
       "\n",
       "    .dataframe thead th {\n",
       "        text-align: right;\n",
       "    }\n",
       "</style>\n",
       "<table border=\"1\" class=\"dataframe\">\n",
       "  <thead>\n",
       "    <tr style=\"text-align: right;\">\n",
       "      <th></th>\n",
       "      <th>Normal</th>\n",
       "      <th>Diag</th>\n",
       "    </tr>\n",
       "  </thead>\n",
       "  <tbody>\n",
       "    <tr>\n",
       "      <th>AXP</th>\n",
       "      <td>0.072973</td>\n",
       "      <td>0.101382</td>\n",
       "    </tr>\n",
       "    <tr>\n",
       "      <th>BAC</th>\n",
       "      <td>0.025992</td>\n",
       "      <td>0.022426</td>\n",
       "    </tr>\n",
       "    <tr>\n",
       "      <th>BK</th>\n",
       "      <td>-0.328361</td>\n",
       "      <td>0.019988</td>\n",
       "    </tr>\n",
       "    <tr>\n",
       "      <th>CVX</th>\n",
       "      <td>-0.066632</td>\n",
       "      <td>0.132093</td>\n",
       "    </tr>\n",
       "    <tr>\n",
       "      <th>DVA</th>\n",
       "      <td>0.372636</td>\n",
       "      <td>0.120805</td>\n",
       "    </tr>\n",
       "    <tr>\n",
       "      <th>KO</th>\n",
       "      <td>0.277866</td>\n",
       "      <td>0.194887</td>\n",
       "    </tr>\n",
       "    <tr>\n",
       "      <th>MCO</th>\n",
       "      <td>0.100170</td>\n",
       "      <td>0.046078</td>\n",
       "    </tr>\n",
       "    <tr>\n",
       "      <th>USB</th>\n",
       "      <td>0.233891</td>\n",
       "      <td>0.105205</td>\n",
       "    </tr>\n",
       "    <tr>\n",
       "      <th>VRSN</th>\n",
       "      <td>0.088063</td>\n",
       "      <td>0.086985</td>\n",
       "    </tr>\n",
       "    <tr>\n",
       "      <th>VZ</th>\n",
       "      <td>0.223402</td>\n",
       "      <td>0.170151</td>\n",
       "    </tr>\n",
       "  </tbody>\n",
       "</table>\n",
       "</div>"
      ],
      "text/plain": [
       "        Normal      Diag\n",
       "AXP   0.072973  0.101382\n",
       "BAC   0.025992  0.022426\n",
       "BK   -0.328361  0.019988\n",
       "CVX  -0.066632  0.132093\n",
       "DVA   0.372636  0.120805\n",
       "KO    0.277866  0.194887\n",
       "MCO   0.100170  0.046078\n",
       "USB   0.233891  0.105205\n",
       "VRSN  0.088063  0.086985\n",
       "VZ    0.223402  0.170151"
      ]
     },
     "execution_count": 41,
     "metadata": {},
     "output_type": "execute_result"
    }
   ],
   "source": [
    "# in_sample\n",
    "is_norm = tangency_portfolio(in_sample)\n",
    "is_diag = tangency_portfolio(in_sample, diag=True)\n",
    "is_df = pd.DataFrame({'Normal':is_norm, 'Diag':is_diag})\n",
    "is_df"
   ]
  },
  {
   "cell_type": "markdown",
   "id": "680742d0",
   "metadata": {},
   "source": [
    "## c."
   ]
  },
  {
   "cell_type": "code",
   "execution_count": 42,
   "id": "e68cbe97",
   "metadata": {},
   "outputs": [
    {
     "data": {
      "text/html": [
       "<div>\n",
       "<style scoped>\n",
       "    .dataframe tbody tr th:only-of-type {\n",
       "        vertical-align: middle;\n",
       "    }\n",
       "\n",
       "    .dataframe tbody tr th {\n",
       "        vertical-align: top;\n",
       "    }\n",
       "\n",
       "    .dataframe thead th {\n",
       "        text-align: right;\n",
       "    }\n",
       "</style>\n",
       "<table border=\"1\" class=\"dataframe\">\n",
       "  <thead>\n",
       "    <tr style=\"text-align: right;\">\n",
       "      <th></th>\n",
       "      <th>Mean</th>\n",
       "      <th>Volatility</th>\n",
       "      <th>Sharpe</th>\n",
       "    </tr>\n",
       "  </thead>\n",
       "  <tbody>\n",
       "    <tr>\n",
       "      <th>Normal</th>\n",
       "      <td>0.02303</td>\n",
       "      <td>0.039080</td>\n",
       "      <td>0.589307</td>\n",
       "    </tr>\n",
       "    <tr>\n",
       "      <th>Diag</th>\n",
       "      <td>0.01747</td>\n",
       "      <td>0.037456</td>\n",
       "      <td>0.466404</td>\n",
       "    </tr>\n",
       "  </tbody>\n",
       "</table>\n",
       "</div>"
      ],
      "text/plain": [
       "           Mean  Volatility    Sharpe\n",
       "Normal  0.02303    0.039080  0.589307\n",
       "Diag    0.01747    0.037456  0.466404"
      ]
     },
     "execution_count": 42,
     "metadata": {},
     "output_type": "execute_result"
    }
   ],
   "source": [
    "# In_sample\n",
    "norm_returns = in_sample @is_norm \n",
    "diag_returns = in_sample @ is_diag\n",
    "\n",
    "# --- Normal---\n",
    "is_norm_mu = norm_returns.mean()\n",
    "is_norm_std = norm_returns.std()\n",
    "is_norm_sharpe = is_norm_mu / is_norm_std\n",
    "\n",
    "# ---Diag---\n",
    "is_diag_mu = diag_returns.mean()\n",
    "is_diag_std = diag_returns.std()\n",
    "is_diag_sharpe = is_diag_mu / is_diag_std\n",
    "\n",
    "comparison = [{'Mean':is_norm_mu, 'Volatility':is_norm_std, 'Sharpe':is_norm_sharpe}, \n",
    "              {'Mean':is_diag_mu, 'Volatility':is_diag_std, 'Sharpe':is_diag_sharpe}]\n",
    "\n",
    "comparison_df_is = pd.DataFrame(comparison, index=['Normal', 'Diag'])\n",
    "comparison_df_is"
   ]
  },
  {
   "cell_type": "code",
   "execution_count": 43,
   "id": "1b748cbb",
   "metadata": {},
   "outputs": [
    {
     "data": {
      "text/html": [
       "<div>\n",
       "<style scoped>\n",
       "    .dataframe tbody tr th:only-of-type {\n",
       "        vertical-align: middle;\n",
       "    }\n",
       "\n",
       "    .dataframe tbody tr th {\n",
       "        vertical-align: top;\n",
       "    }\n",
       "\n",
       "    .dataframe thead th {\n",
       "        text-align: right;\n",
       "    }\n",
       "</style>\n",
       "<table border=\"1\" class=\"dataframe\">\n",
       "  <thead>\n",
       "    <tr style=\"text-align: right;\">\n",
       "      <th></th>\n",
       "      <th>Mean</th>\n",
       "      <th>Volatility</th>\n",
       "      <th>Sharpe</th>\n",
       "    </tr>\n",
       "  </thead>\n",
       "  <tbody>\n",
       "    <tr>\n",
       "      <th>Normal</th>\n",
       "      <td>0.010176</td>\n",
       "      <td>0.046562</td>\n",
       "      <td>0.218547</td>\n",
       "    </tr>\n",
       "    <tr>\n",
       "      <th>Diag</th>\n",
       "      <td>0.009932</td>\n",
       "      <td>0.040905</td>\n",
       "      <td>0.242815</td>\n",
       "    </tr>\n",
       "  </tbody>\n",
       "</table>\n",
       "</div>"
      ],
      "text/plain": [
       "            Mean  Volatility    Sharpe\n",
       "Normal  0.010176    0.046562  0.218547\n",
       "Diag    0.009932    0.040905  0.242815"
      ]
     },
     "execution_count": 43,
     "metadata": {},
     "output_type": "execute_result"
    }
   ],
   "source": [
    "# Out of sample\n",
    "norm_returns = out_sample @ is_norm \n",
    "diag_returns = out_sample @ is_diag\n",
    "\n",
    "# --- Normal---\n",
    "is_norm_mu = norm_returns.mean()\n",
    "is_norm_std = norm_returns.std()\n",
    "is_norm_sharpe = is_norm_mu / is_norm_std\n",
    "\n",
    "# ---Diag---\n",
    "is_diag_mu = diag_returns.mean()\n",
    "is_diag_std = diag_returns.std()\n",
    "is_diag_sharpe = is_diag_mu / is_diag_std\n",
    "\n",
    "comparison = [{'Mean':is_norm_mu, 'Volatility':is_norm_std, 'Sharpe':is_norm_sharpe}, \n",
    "              {'Mean':is_diag_mu, 'Volatility':is_diag_std, 'Sharpe':is_diag_sharpe}]\n",
    "\n",
    "comparison_df_is = pd.DataFrame(comparison, index=['Normal', 'Diag'])\n",
    "comparison_df_is"
   ]
  },
  {
   "cell_type": "markdown",
   "id": "5d614df1",
   "metadata": {},
   "source": [
    "The diaganolized returns are less subject to change out of sample vs in sample. The unadjusted mean-variance portfolio's out of sample sharpe dropped below the sharpe of the diaganolized portfolio. The unadjusted version is extremely sensatized to in-sample data."
   ]
  }
 ],
 "metadata": {
  "kernelspec": {
   "display_name": "venv",
   "language": "python",
   "name": "venv"
  },
  "language_info": {
   "codemirror_mode": {
    "name": "ipython",
    "version": 3
   },
   "file_extension": ".py",
   "mimetype": "text/x-python",
   "name": "python",
   "nbconvert_exporter": "python",
   "pygments_lexer": "ipython3",
   "version": "3.8.8"
  }
 },
 "nbformat": 4,
 "nbformat_minor": 5
}
